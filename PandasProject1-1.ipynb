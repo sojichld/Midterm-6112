{
 "cells": [
  {
   "cell_type": "markdown",
   "metadata": {},
   "source": [
    "Name:\n",
    "Email:\n",
    "\n",
    "\n",
    "\n",
    "## Using the provided file, answer the following questions:\n",
    "\n",
    "#### Section 1.\n",
    "    a) Which state/territory had the highest numerical increase in confirmed cases over the summer months (July 1st through the end of September)\n",
    "    \n",
    "    b) Which state/territory had the highest percentage increase in confirmed cases over the same time period? \n",
    "    \n",
    "    c) What was the 7-day average increase in cases per state? (Mean of cases per day over a seven day period for 8 weeks, starting on June 1st\n",
    "    \n",
    "    d) What proportion of cases nationally had occurred in NY State at the start of each month, from March 2020 to August 2020? \n",
    "    \n",
    "#### Section 2.\n",
    "    Provide a plot showing the result of each question in Part 1. It is up to you to determine how best to demonstrate that result.\n",
    "    "
   ]
  },
  {
   "cell_type": "code",
   "execution_count": null,
   "metadata": {},
   "outputs": [],
   "source": []
  }
 ],
 "metadata": {
  "kernelspec": {
   "display_name": "Python 3",
   "language": "python",
   "name": "python3"
  },
  "language_info": {
   "codemirror_mode": {
    "name": "ipython",
    "version": 3
   },
   "file_extension": ".py",
   "mimetype": "text/x-python",
   "name": "python",
   "nbconvert_exporter": "python",
   "pygments_lexer": "ipython3",
   "version": "3.7.6"
  }
 },
 "nbformat": 4,
 "nbformat_minor": 4
}
